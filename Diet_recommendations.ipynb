{
  "cells": [
    {
      "cell_type": "markdown",
      "metadata": {
        "id": "JR0zedPm7HwH"
      },
      "source": [
        "# **IMPORTING IMPORTANT LIBRARIES**"
      ]
    },
    {
      "cell_type": "code",
      "execution_count": null,
      "metadata": {
        "id": "H_VpshivHKUK"
      },
      "outputs": [],
      "source": [
        "from google.colab import drive\n",
        "drive.mount('/content/drive')"
      ]
    },
    {
      "cell_type": "code",
      "execution_count": null,
      "metadata": {
        "id": "nKsjnLci7HwO"
      },
      "outputs": [],
      "source": [
        "import pandas as pd\n",
        "import matplotlib.pyplot as plt\n",
        "import seaborn as sns\n",
        "import numpy as np\n",
        "from sklearn.preprocessing import LabelEncoder, StandardScaler\n",
        "from sklearn.model_selection import train_test_split, GridSearchCV\n",
        "from sklearn.ensemble import RandomForestClassifier\n",
        "from sklearn.tree import DecisionTreeClassifier\n",
        "from sklearn.linear_model import LogisticRegression\n",
        "from sklearn.metrics import accuracy_score, classification_report , confusion_matrix\n",
        "from imblearn.over_sampling import SMOTE\n",
        "\n",
        "import warnings\n",
        "warnings.filterwarnings(\"ignore\")"
      ]
    },
    {
      "cell_type": "markdown",
      "metadata": {
        "id": "nSZ4mmJJ7HwR"
      },
      "source": [
        "# **READING THE DATASET**"
      ]
    },
    {
      "cell_type": "code",
      "execution_count": null,
      "metadata": {
        "id": "s3Tkz5hj7HwS"
      },
      "outputs": [],
      "source": [
        "df = pd.read_csv(\"diet_recommendations_dataset.csv\")\n",
        "df=pd.DataFrame(df)\n",
        "df =pd.concat([df,df.loc[10:110]],ignore_index=True)\n",
        "df.head()"
      ]
    },
    {
      "cell_type": "markdown",
      "metadata": {
        "id": "NrNspt8K7HwT"
      },
      "source": [
        "# **EDA**"
      ]
    },
    {
      "cell_type": "code",
      "execution_count": null,
      "metadata": {
        "id": "Iw5ePJwI7HwU"
      },
      "outputs": [],
      "source": [
        "print(\"Initial Data Info:\")\n",
        "print(df.info())"
      ]
    },
    {
      "cell_type": "code",
      "execution_count": null,
      "metadata": {
        "id": "YfReHwA07HwV"
      },
      "outputs": [],
      "source": [
        "print(\"Checking Missing Values:\")\n",
        "print(df.isnull().sum())"
      ]
    },
    {
      "cell_type": "code",
      "execution_count": null,
      "metadata": {
        "id": "_ORJZiRN7HwW"
      },
      "outputs": [],
      "source": [
        "df.describe()"
      ]
    },
    {
      "cell_type": "code",
      "execution_count": null,
      "metadata": {
        "id": "IV28AMh-7HwX"
      },
      "outputs": [],
      "source": [
        "df.columns"
      ]
    },
    {
      "cell_type": "code",
      "execution_count": null,
      "metadata": {
        "id": "czvI28Z97HwY"
      },
      "outputs": [],
      "source": [
        "duplicates = df.duplicated().sum()\n",
        "print(f\"Number of duplicate rows: {duplicates}\")"
      ]
    },
    {
      "cell_type": "code",
      "execution_count": null,
      "metadata": {
        "id": "htOdxa067HwZ"
      },
      "outputs": [],
      "source": [
        "df.drop_duplicates(inplace=True)"
      ]
    },
    {
      "cell_type": "code",
      "execution_count": null,
      "metadata": {
        "id": "L50HtHjK7HwZ"
      },
      "outputs": [],
      "source": [
        "df = df.drop(columns=[\"Patient_ID\"], errors='ignore')"
      ]
    },
    {
      "cell_type": "code",
      "execution_count": null,
      "metadata": {
        "id": "_0W4_MOe7Hwa"
      },
      "outputs": [],
      "source": [
        "df['Disease_Type'].fillna(df['Disease_Type'].mode()[0], inplace=True)\n",
        "df['Dietary_Restrictions'].fillna(df['Dietary_Restrictions'].mode()[0], inplace=True)\n",
        "df['Allergies'].fillna(df['Allergies'].mode()[0], inplace=True)"
      ]
    },
    {
      "cell_type": "code",
      "execution_count": null,
      "metadata": {
        "id": "d5mtcAKO7Hwb"
      },
      "outputs": [],
      "source": [
        "numerical_cols = df.select_dtypes(include=[\"int64\", \"float64\"]).columns\n",
        "num_cols = len(numerical_cols)\n",
        "fig, axes = plt.subplots(nrows=num_cols//3 + 1, ncols=3, figsize=(20, 5 * (num_cols//3 + 1)))\n",
        "axes = axes.flatten()\n",
        "\n",
        "for i, col in enumerate(numerical_cols):\n",
        "    sns.histplot(df[col], bins=20, kde=True, ax=axes[i], color='teal')\n",
        "    axes[i].set_title(f\"Distribution of {col}\")\n",
        "\n",
        "plt.tight_layout()\n",
        "plt.show()"
      ]
    },
    {
      "cell_type": "code",
      "execution_count": null,
      "metadata": {
        "id": "hw0uQM0D7Hwc"
      },
      "outputs": [],
      "source": [
        "plt.subplots(figsize=(20,10))\n",
        "for i ,column in enumerate(numerical_cols):\n",
        "    plt.subplot(3,4, i+1)\n",
        "    sns.histplot(data=df, x=column, hue='Diet_Recommendation', kde=True, palette='viridis', bins=30)\n",
        "    plt.title(f\"Distribution of {column}\")\n",
        "    plt.xlabel(column)\n",
        "    plt.ylabel(\"Count\")\n",
        "    plt.legend(title=\"Diet\", labels=[\"No (0)\", \"Yes (1)\"])\n",
        "plt.tight_layout()\n",
        "plt.show()"
      ]
    },
    {
      "cell_type": "code",
      "execution_count": null,
      "metadata": {
        "id": "3w_U8jNV7Hwc"
      },
      "outputs": [],
      "source": [
        "categorical_cols = ['Disease_Type','Gender','Severity','Physical_Activity_Level','Dietary_Restrictions',\n",
        "                    'Allergies','Preferred_Cuisine','Diet_Recommendation']\n",
        "plt.figure(figsize=(20, 10))\n",
        "for i, col in enumerate(categorical_cols, 1):\n",
        "    plt.subplot(3, 3, i)\n",
        "    sns.countplot(data=df, x=col, palette=\"coolwarm\")\n",
        "    plt.title(f\"Distribution of {col}\")\n",
        "plt.tight_layout()\n",
        "plt.show()"
      ]
    },
    {
      "cell_type": "code",
      "execution_count": null,
      "metadata": {
        "id": "rIlmJOX87Hwc"
      },
      "outputs": [],
      "source": [
        "plt.figure(figsize=(10, 8))\n",
        "corr_matrix = df.select_dtypes(include=[\"number\"]).corr()\n",
        "sns.heatmap(corr_matrix.corr(), annot=True, fmt=\".2f\", cmap=\"RdYlBu\")\n",
        "plt.title(\"Correlation Matrix\")\n",
        "plt.show()"
      ]
    },
    {
      "cell_type": "code",
      "execution_count": null,
      "metadata": {
        "id": "Ehbu_5Q57Hwd"
      },
      "outputs": [],
      "source": [
        "plt.figure(figsize=(8, 6))\n",
        "sns.boxplot(data=df, x='Diet_Recommendation', y='BMI', palette=\"coolwarm\")\n",
        "plt.title(\"Boxplot of BMI by Diet_Recommendation\")\n",
        "plt.xlabel(\"Diet_Recommendation (Target)\")\n",
        "plt.ylabel(\"BMI\")\n",
        "plt.show()"
      ]
    },
    {
      "cell_type": "code",
      "execution_count": null,
      "metadata": {
        "id": "LvF1fVLZ7Hwd"
      },
      "outputs": [],
      "source": [
        "plt.figure(figsize=(20, 10))\n",
        "for i, col in enumerate(categorical_cols, 1):\n",
        "    plt.subplot(3, 3, i)\n",
        "    sns.countplot(data=df, x=col,hue = 'Diet_Recommendation', palette=\"coolwarm\")\n",
        "    plt.title(f\"Distribution of {col}\")\n",
        "plt.tight_layout()\n",
        "plt.show()"
      ]
    },
    {
      "cell_type": "code",
      "execution_count": null,
      "metadata": {
        "id": "wLTspc4Y7Hwe"
      },
      "outputs": [],
      "source": [
        "sns.pairplot(df, vars= numerical_cols, hue='Diet_Recommendation', palette=\"coolwarm\")\n",
        "plt.suptitle(\"Pair Plot of Numerical Features by Diet_Recommendation\", y=1.02)\n",
        "plt.show()"
      ]
    },
    {
      "cell_type": "code",
      "execution_count": null,
      "metadata": {
        "id": "mWHYlNgC7Hwe"
      },
      "outputs": [],
      "source": [
        "plt.figure(figsize=(20, 10))\n",
        "for i, col in enumerate(numerical_cols, 1):\n",
        "    plt.subplot(3, 4, i)\n",
        "    sns.boxplot(data=df, y=col, palette=\"viridis\")\n",
        "    plt.title(f\"Boxplot of {col}\")\n",
        "plt.tight_layout()\n",
        "plt.show()"
      ]
    },
    {
      "cell_type": "code",
      "execution_count": null,
      "metadata": {
        "id": "57KvAZp-7Hwe"
      },
      "outputs": [],
      "source": [
        "outlier_columns = []\n",
        "for col in numerical_cols:\n",
        "    Q1 = df[col].quantile(0.25)\n",
        "    Q3 = df[col].quantile(0.75)\n",
        "    IQR = Q3 - Q1\n",
        "    lower_bound = Q1 - 1.5 * IQR\n",
        "    upper_bound = Q3 + 1.5 * IQR\n",
        "\n",
        "    outliers = df[(df[col] < lower_bound) | (df[col] > upper_bound)]\n",
        "    if not outliers.empty:\n",
        "        outlier_columns.append(col)\n",
        "\n",
        "print(\"Columns with potential outliers:\", outlier_columns)\n",
        "print(df.shape)"
      ]
    },
    {
      "cell_type": "code",
      "execution_count": null,
      "metadata": {
        "id": "EMdZ_Ace7Hwf"
      },
      "outputs": [],
      "source": [
        "for col in outlier_columns:\n",
        "    Q1 = df[col].quantile(0.25)\n",
        "    Q3 = df[col].quantile(0.75)\n",
        "    IQR = Q3 - Q1\n",
        "    lower_bound = Q1 - 1.5 * IQR\n",
        "    upper_bound = Q3 + 1.5 * IQR\n",
        "\n",
        "    df = df[(df[col] >= lower_bound) & (df[col] <= upper_bound)]"
      ]
    },
    {
      "cell_type": "code",
      "execution_count": null,
      "metadata": {
        "id": "usnmoX3Y7Hwf"
      },
      "outputs": [],
      "source": [
        "print(\"Missing values:\\n\", df.isnull().sum())"
      ]
    },
    {
      "cell_type": "markdown",
      "metadata": {
        "id": "vGnT0x5z7Hwf"
      },
      "source": [
        "# **Encoding**"
      ]
    },
    {
      "cell_type": "code",
      "execution_count": null,
      "metadata": {
        "id": "w6Htu6ua7Hwf"
      },
      "outputs": [],
      "source": [
        "categorical_cols = df.select_dtypes(include=[\"object\"]).columns\n",
        "label_encoders = {}\n",
        "for col in categorical_cols:\n",
        "    le = LabelEncoder()\n",
        "    df[col] = le.fit_transform(df[col])\n",
        "    label_encoders[col] = le\n",
        "\n",
        "categorical_cols"
      ]
    },
    {
      "cell_type": "code",
      "execution_count": null,
      "metadata": {
        "id": "6pH1pzWi7Hwg"
      },
      "outputs": [],
      "source": [
        "print(\"\\nEncoded Categorical Variables:\")\n",
        "print(df.head())"
      ]
    },
    {
      "cell_type": "code",
      "execution_count": null,
      "metadata": {
        "id": "nSomDmbv7Hwg"
      },
      "outputs": [],
      "source": [
        "corr = df.corr()\n",
        "print(corr['Diet_Recommendation'].sort_values(ascending=False))"
      ]
    },
    {
      "cell_type": "markdown",
      "metadata": {
        "id": "Mtrto8aJ7Hwh"
      },
      "source": [
        "# **FEATURE SCALING**"
      ]
    },
    {
      "cell_type": "code",
      "execution_count": null,
      "metadata": {
        "colab": {
          "background_save": true
        },
        "id": "urJK9Ilq7Hwh",
        "outputId": "2d537b19-2ec5-4337-96d7-02d8369d9f91"
      },
      "outputs": [
        {
          "name": "stdout",
          "output_type": "stream",
          "text": [
            "\n",
            "Scaled Numerical Features:\n",
            "        Age    Gender  Weight_kg  Height_cm       BMI  Disease_Type  Severity  \\\n",
            "0  0.338975  0.952914  -1.302914  -1.044832 -0.669464      1.497711 -0.039619   \n",
            "1  1.057315  0.952914   0.836109  -0.414303  0.922936     -1.393219 -1.272776   \n",
            "2 -0.213593 -1.049412  -1.048031  -0.134068 -0.871673      0.052246 -1.272776   \n",
            "3 -0.987190  0.952914  -1.317908  -0.764597 -0.821121      0.052246 -1.272776   \n",
            "4  0.560003  0.952914  -0.248396   1.547342 -0.960140     -1.393219 -0.039619   \n",
            "\n",
            "   Physical_Activity_Level  Daily_Caloric_Intake  Cholesterol_mg/dL  \\\n",
            "0                 0.003697              1.066792          -0.909240   \n",
            "1                 0.003697              0.983459          -0.019427   \n",
            "2                 1.231227             -1.312616          -0.644701   \n",
            "3                 0.003697              0.318572          -1.084454   \n",
            "4                 1.231227              1.806146           0.021800   \n",
            "\n",
            "   Blood_Pressure_mmHg  Glucose_mg/dL  Dietary_Restrictions  Allergies  \\\n",
            "0            -0.595130      -0.539714             -0.680114   1.417414   \n",
            "1            -1.237489       0.008529             -0.680114   1.417414   \n",
            "2            -1.188077      -0.716312             -0.680114   1.417414   \n",
            "3            -0.051595       0.596310             -0.680114  -0.705510   \n",
            "4             1.331948       1.199905              1.470342  -0.705510   \n",
            "\n",
            "   Preferred_Cuisine  Weekly_Exercise_Hours  Adherence_to_Diet_Plan  \\\n",
            "0           1.288883              -0.722125                1.468257   \n",
            "1          -1.368938              -0.230460               -0.784896   \n",
            "2          -1.368938              -0.476292               -1.169416   \n",
            "3           1.288883              -0.300697               -1.371795   \n",
            "4           0.402943               1.630847                0.226999   \n",
            "\n",
            "   Dietary_Nutrient_Imbalance_Score  Diet_Recommendation  \n",
            "0                          0.433008                    0  \n",
            "1                         -1.279491                    1  \n",
            "2                          1.460507                    2  \n",
            "3                         -1.416491                    0  \n",
            "4                          1.529007                    1  \n",
            "Mean: [4.98654618e+01 5.24096386e-01 8.44701807e+01 1.74913655e+02\n",
            " 2.80971888e+01 9.63855422e-01 1.03212851e+00 9.96987952e-01\n",
            " 2.47732329e+03 1.99765462e+02 1.45044177e+02 1.36776406e+02\n",
            " 3.16265060e-01 3.32329317e-01 1.54518072e+00 5.15622490e+00\n",
            " 7.48350402e+01 2.46787149e+00]\n",
            "Std Dev: [1.80972932e+01 4.99419027e-01 2.00091275e+01 1.42737358e+01\n",
            " 7.91258289e+00 6.91818797e-01 8.10926813e-01 8.14644429e-01\n",
            " 5.64005864e+02 2.91072289e+01 2.02378938e+01 3.79393441e+01\n",
            " 4.65017711e-01 4.71048344e-01 1.12874405e+00 2.84746266e+00\n",
            " 1.48236700e+01 1.45985499e+00]\n"
          ]
        }
      ],
      "source": [
        "numerical_cols = df.drop(columns=[\"Diet_Recommendation\"]).select_dtypes(include=[\"int64\", \"float64\"]).columns\n",
        "scaler = StandardScaler()\n",
        "df[numerical_cols] = scaler.fit_transform(df[numerical_cols])\n",
        "print(\"\\nScaled Numerical Features:\")\n",
        "print(df.head())\n",
        "\n",
        "mean = scaler.mean_\n",
        "std = np.sqrt(scaler.var_)  # Use std, not var, because StandardScaler uses (X - mean) / std\n",
        "\n",
        "print(\"Mean:\", mean)\n",
        "print(\"Std Dev:\", std)\n"
      ]
    },
    {
      "cell_type": "code",
      "execution_count": null,
      "metadata": {
        "colab": {
          "background_save": true
        },
        "id": "0JQx0sw-7Hwh"
      },
      "outputs": [],
      "source": [
        "X = df.drop(columns=[\"Diet_Recommendation\"])\n",
        "y = df[\"Diet_Recommendation\"]\n",
        "\n",
        "smote = SMOTE(random_state=42)\n",
        "X_resampled, y_resampled = smote.fit_resample(X, y)\n"
      ]
    },
    {
      "cell_type": "code",
      "execution_count": null,
      "metadata": {
        "colab": {
          "background_save": true
        },
        "id": "kTKbMKat7Hwh"
      },
      "outputs": [],
      "source": [
        "# Split data into training and testing sets\n",
        "X_train, X_test, y_train, y_test = train_test_split(X_resampled, y_resampled, test_size=0.2, random_state=42)"
      ]
    },
    {
      "cell_type": "markdown",
      "metadata": {
        "id": "GiAMewsB7Hwi"
      },
      "source": [
        "# **MODELING**"
      ]
    },
    {
      "cell_type": "markdown",
      "metadata": {
        "id": "XWOU5C8G7Hwi"
      },
      "source": [
        "# RANDOM FOREST CLASSIFIER"
      ]
    },
    {
      "cell_type": "code",
      "execution_count": null,
      "metadata": {
        "id": "HI2_oWD17Hwk"
      },
      "outputs": [],
      "source": [
        "model=RandomForestClassifier(n_estimators=200,min_samples_leaf=2)\n",
        "model.fit(X_train,y_train)\n",
        "y_pred = model.predict(X_test)\n",
        "\n",
        "print(f'train score: {model.score(X_train,y_train)}')\n",
        "print(f'test score: {model.score(X_test,y_test)}')\n",
        "print(\"Accuracy:\", accuracy_score(y_test, y_pred))\n",
        "print(\"\\nClassification Report:\\n\", classification_report(y_test, y_pred))\n",
        "print(\"\\nConfusion Matrix:\\n\", confusion_matrix(y_test, y_pred))\n",
        "pd.DataFrame({'True_values':y_test,'pred_values':y_pred})"
      ]
    },
    {
      "cell_type": "code",
      "execution_count": null,
      "metadata": {
        "id": "v4HWYNHa7Hwk"
      },
      "outputs": [],
      "source": [
        "# !pip install skl2onnx\n",
        "# !pip install onnxruntime_gpu\n",
        "import joblib\n",
        "import skl2onnx\n",
        "import onnx\n",
        "from skl2onnx import convert_sklearn\n",
        "from skl2onnx.common.data_types import FloatTensorType\n",
        "\n",
        "initial_type = [(\"float_input\", FloatTensorType([None, X_train.shape[1]]))]\n",
        "onnx_model = convert_sklearn(model, initial_types=initial_type)\n",
        "\n",
        "# Save ONNX model\n",
        "with open(\"/content/model.onnx\", \"wb\") as f:\n",
        "    f.write(onnx_model.SerializeToString())"
      ]
    }
  ],
  "metadata": {
    "colab": {
      "provenance": []
    },
    "kernelspec": {
      "display_name": "base",
      "language": "python",
      "name": "python3"
    },
    "language_info": {
      "codemirror_mode": {
        "name": "ipython",
        "version": 3
      },
      "file_extension": ".py",
      "mimetype": "text/x-python",
      "name": "python",
      "nbconvert_exporter": "python",
      "pygments_lexer": "ipython3",
      "version": "3.12.7"
    }
  },
  "nbformat": 4,
  "nbformat_minor": 0
}